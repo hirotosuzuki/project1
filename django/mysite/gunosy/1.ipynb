{
 "cells": [
  {
   "cell_type": "code",
   "execution_count": 1,
   "metadata": {
    "collapsed": false
   },
   "outputs": [
    {
     "name": "stdout",
     "output_type": "stream",
     "text": [
      "['初回', '得点', '猛攻', '作新学院', '回', 'コールド', '勝ち', '先発', '篠原', '聖', '弥', '作新学院', '初回', '入り', 'テーマ', 'ん', '逆', '点', 'こと', '打者', '雰囲気', '作新学院', '小針', '監督', '試合', '後', '初回', '明秀', '学園', '日立', '先頭', '原', '光', '貴', '先頭', '打者', '本塁打', 'ゲーム', '四球', '番', '高橋', '成行', '二塁打', '点', '先制', '作新学院', '明秀', '学園', '日立', '牙', '先頭', '打者', '四球', '四球', '連打', '打者', '一巡', '打席', '目', '内野', '安打', '記録', '添田', '真聖', 'ライト', '二塁打', '回', '得点', '小針', '監督', '初回', '点', '記憶', 'チーム', '各', '打者', 'バット', 'その後', '追加', '点', '作新学院', '対', 'コールド', '勝ち', '次', '対戦', '相手', '早稲田', '実業', '前', '試合', '早稲田', '実業', '戦', '小針', '監督', '各', 'バッター', '振り', '番', '番', 'それ', '以外', 'バッター', 'ボール', '力', '力', '攻撃', '守備', '塁', '大事', '作新学院', '添田', '真聖', '主将', '向こう', '自分', 'たち', '入り', 'テーマ', 'そこ', '次', '戦', '勢い', '両', 'チーム', '対決', '作新学院', 'テーマ', '初回', '入り', '取材', '写真', '編集', '部', '注目', '記事', '年度', '春季', '高校', '野球', '大会', '特集']\n",
      "2\n"
     ]
    }
   ],
   "source": [
    "import naivebayes\n",
    "siteurl=\"https://gunosy.com/articles/albEa\"\n",
    "text=naivebayes.url_to_sepatext(siteurl)\n",
    "print(text)\n",
    "print(naivebayes.classify(text))\n"
   ]
  },
  {
   "cell_type": "code",
   "execution_count": null,
   "metadata": {
    "collapsed": true
   },
   "outputs": [],
   "source": []
  },
  {
   "cell_type": "code",
   "execution_count": null,
   "metadata": {
    "collapsed": true
   },
   "outputs": [],
   "source": []
  }
 ],
 "metadata": {
  "kernelspec": {
   "display_name": "Python 3",
   "language": "python",
   "name": "python3"
  },
  "language_info": {
   "codemirror_mode": {
    "name": "ipython",
    "version": 3
   },
   "file_extension": ".py",
   "mimetype": "text/x-python",
   "name": "python",
   "nbconvert_exporter": "python",
   "pygments_lexer": "ipython3",
   "version": "3.6.0"
  }
 },
 "nbformat": 4,
 "nbformat_minor": 2
}
